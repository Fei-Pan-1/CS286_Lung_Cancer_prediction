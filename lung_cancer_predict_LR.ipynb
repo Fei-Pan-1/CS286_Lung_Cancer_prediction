{
  "cells": [
    {
      "cell_type": "code",
      "execution_count": 1,
      "metadata": {
        "id": "_cp2EP7agXjv"
      },
      "outputs": [],
      "source": [
        "import pandas as pd\n",
        "import numpy as np\n",
        "import pickle\n",
        "from google.colab import drive\n",
        "from sklearn.model_selection import RandomizedSearchCV, cross_val_score, train_test_split\n",
        "from sklearn import svm\n",
        "from sklearn import metrics\n",
        "from matplotlib import pyplot as plt\n",
        "from sklearn.svm import SVC\n",
        "from sklearn.metrics import roc_auc_score, roc_curve\n",
        "import numpy as np"
      ]
    },
    {
      "cell_type": "code",
      "execution_count": 2,
      "metadata": {
        "colab": {
          "base_uri": "https://localhost:8080/"
        },
        "id": "UWmKwpUTis2D",
        "outputId": "3d201a05-a82e-48d2-a1d5-f994596144ae"
      },
      "outputs": [
        {
          "output_type": "stream",
          "name": "stdout",
          "text": [
            "Mounted at /drive\n"
          ]
        }
      ],
      "source": [
        "drive.mount('/drive')\n",
        "uploaded = '/drive/My Drive/CS286/cs286_project_lung cancer/processed_data.pkl'"
      ]
    },
    {
      "cell_type": "code",
      "execution_count": 3,
      "metadata": {
        "colab": {
          "base_uri": "https://localhost:8080/"
        },
        "id": "VqDc0655ivHx",
        "outputId": "e5aaa166-56e7-4f53-81ce-52bb02fa8539"
      },
      "outputs": [
        {
          "output_type": "stream",
          "name": "stdout",
          "text": [
            "dict_keys(['copy_number_matrix', 'patient_ids', 'labels', 'gene_ids'])\n",
            "(1058, 60623) \n",
            " [[0. 0. 0. ... 0. 0. 0.]\n",
            " [0. 0. 0. ... 0. 0. 0.]\n",
            " [0. 0. 0. ... 0. 0. 0.]\n",
            " ...\n",
            " [0. 0. 0. ... 0. 0. 0.]\n",
            " [0. 0. 0. ... 0. 0. 0.]\n",
            " [0. 0. 0. ... 0. 0. 0.]]\n"
          ]
        }
      ],
      "source": [
        "with open(uploaded, 'rb') as f:\n",
        "    loaded_dict = pickle.load(f)\n",
        "\n",
        "print(loaded_dict.keys())\n",
        "print(loaded_dict['copy_number_matrix'].shape, '\\n', loaded_dict['copy_number_matrix'])\n",
        "# print(len(loaded_dict['labels']), '\\n', loaded_dict['labels'])\n",
        "# print(len(loaded_dict['patient_ids']), '\\n', loaded_dict['patient_ids'])\n",
        "# print(len(loaded_dict['gene_ids']),'\\n', loaded_dict['gene_ids'])"
      ]
    },
    {
      "cell_type": "code",
      "execution_count": 4,
      "metadata": {
        "id": "kRNuQSyIi4pM"
      },
      "outputs": [],
      "source": [
        "X_copy_number = loaded_dict['copy_number_matrix']\n",
        "y_label = loaded_dict['labels']\n",
        "# y_label = np.asarray(y_label).reshape((-1,1))\n",
        "gene_ids = loaded_dict['gene_ids']\n",
        "# print(X_copy_number)"
      ]
    },
    {
      "cell_type": "code",
      "execution_count": null,
      "metadata": {
        "colab": {
          "base_uri": "https://localhost:8080/"
        },
        "id": "2CxaPawsi8hX",
        "outputId": "46209895-432f-4518-b573-6e826cbfda2c"
      },
      "outputs": [
        {
          "output_type": "stream",
          "name": "stdout",
          "text": [
            "(846, 60623) (212, 60623)\n"
          ]
        }
      ],
      "source": [
        "# training 80%, tesing 20%\n",
        "X_train, X_test, y_train, y_test = train_test_split(X_copy_number, \n",
        "                                                    y_label, \n",
        "                                                    test_size = 0.20, \n",
        "                                                    random_state=40)\n",
        "\n",
        "print(X_train.shape, X_test.shape)"
      ]
    },
    {
      "cell_type": "code",
      "source": [
        "import collections\n",
        "print(collections.Counter(y_test))"
      ],
      "metadata": {
        "colab": {
          "base_uri": "https://localhost:8080/"
        },
        "id": "oewKsQzF92fO",
        "outputId": "a87477c9-003e-418c-aa49-28d2c2161bd5"
      },
      "execution_count": null,
      "outputs": [
        {
          "output_type": "stream",
          "name": "stdout",
          "text": [
            "Counter({1: 107, 0: 105})\n"
          ]
        }
      ]
    },
    {
      "cell_type": "code",
      "source": [
        "from sklearn.linear_model import LogisticRegression\n",
        "\n",
        "logisticRegr = LogisticRegression()\n",
        "logisticRegr.fit(X_train, y_train)\n",
        "predictions = logisticRegr.predict(X_test)\n",
        "score = logisticRegr.score(X_test, y_test)\n",
        "print('Accuracy:', score)"
      ],
      "metadata": {
        "colab": {
          "base_uri": "https://localhost:8080/"
        },
        "id": "-YDhvepn5X9e",
        "outputId": "86264cc2-d311-4d62-a0fe-35969c2a797b"
      },
      "execution_count": null,
      "outputs": [
        {
          "output_type": "stream",
          "name": "stdout",
          "text": [
            "0.9245283018867925\n"
          ]
        },
        {
          "output_type": "stream",
          "name": "stderr",
          "text": [
            "/usr/local/lib/python3.7/dist-packages/sklearn/linear_model/_logistic.py:818: ConvergenceWarning: lbfgs failed to converge (status=1):\n",
            "STOP: TOTAL NO. of ITERATIONS REACHED LIMIT.\n",
            "\n",
            "Increase the number of iterations (max_iter) or scale the data as shown in:\n",
            "    https://scikit-learn.org/stable/modules/preprocessing.html\n",
            "Please also refer to the documentation for alternative solver options:\n",
            "    https://scikit-learn.org/stable/modules/linear_model.html#logistic-regression\n",
            "  extra_warning_msg=_LOGISTIC_SOLVER_CONVERGENCE_MSG,\n"
          ]
        }
      ]
    },
    {
      "cell_type": "code",
      "source": [
        "predictions = logisticRegr.predict(X_test)\n",
        "score = logisticRegr.score(X_test, y_test)\n",
        "print(score)"
      ],
      "metadata": {
        "colab": {
          "base_uri": "https://localhost:8080/"
        },
        "id": "z81k4ZSA5spY",
        "outputId": "4f0e17fb-c56b-45b1-d1ac-0187d3e4cf06"
      },
      "execution_count": null,
      "outputs": [
        {
          "output_type": "stream",
          "name": "stdout",
          "text": [
            "0.9245283018867925\n"
          ]
        }
      ]
    },
    {
      "cell_type": "code",
      "source": [
        "cm = metrics.confusion_matrix(y_test, predictions)\n",
        "print(cm)"
      ],
      "metadata": {
        "colab": {
          "base_uri": "https://localhost:8080/"
        },
        "id": "wB-j0LI-68g3",
        "outputId": "055d1258-3087-4494-b936-ef56fd95cf97"
      },
      "execution_count": null,
      "outputs": [
        {
          "output_type": "stream",
          "name": "stdout",
          "text": [
            "[[ 96   9]\n",
            " [  7 100]]\n"
          ]
        }
      ]
    },
    {
      "cell_type": "code",
      "source": [
        "from sklearn.metrics import classification_report\n",
        "print(classification_report(y_test, predictions))\n",
        "print('Accuracy:', \"{:.1%}\".format(score))"
      ],
      "metadata": {
        "colab": {
          "base_uri": "https://localhost:8080/"
        },
        "id": "ZnJGtmxTKb1G",
        "outputId": "bde263aa-dcbd-4515-a423-6a761c110a3c"
      },
      "execution_count": null,
      "outputs": [
        {
          "output_type": "stream",
          "name": "stdout",
          "text": [
            "              precision    recall  f1-score   support\n",
            "\n",
            "           0       0.93      0.91      0.92       105\n",
            "           1       0.92      0.93      0.93       107\n",
            "\n",
            "    accuracy                           0.92       212\n",
            "   macro avg       0.92      0.92      0.92       212\n",
            "weighted avg       0.92      0.92      0.92       212\n",
            "\n",
            "Accuracy: 92.5%\n"
          ]
        }
      ]
    },
    {
      "cell_type": "code",
      "source": [
        "import seaborn as sns\n",
        "\n",
        "ax = sns.heatmap(cm, annot=True, cmap='Blues', fmt='g')\n",
        "\n",
        "ax.set_title('Confusion Matrix with labels\\n');\n",
        "ax.set_xlabel('\\nPredicted Values')\n",
        "ax.set_ylabel('Actual Values ');\n",
        "\n",
        "ax.xaxis.set_ticklabels(['LUSC','LUAD'])\n",
        "ax.yaxis.set_ticklabels(['LUSC','LUAD'])\n",
        "\n",
        "## Display the visualization of the Confusion Matrix.\n",
        "plt.show()"
      ],
      "metadata": {
        "colab": {
          "base_uri": "https://localhost:8080/",
          "height": 322
        },
        "id": "JXruOYbj7PiI",
        "outputId": "995cebed-f9db-47f5-95ab-49f0fc2c885e"
      },
      "execution_count": null,
      "outputs": [
        {
          "output_type": "display_data",
          "data": {
            "text/plain": [
              "<Figure size 432x288 with 2 Axes>"
            ],
            "image/png": "[encoded data removed]"
          },
          "metadata": {
            "needs_background": "light"
          }
        }
      ]
    },
    {
      "cell_type": "code",
      "source": [
        "from sklearn.metrics import classification_report, accuracy_score, confusion_matrix, roc_auc_score, roc_curve, precision_recall_curve\n",
        "\n",
        "#Generate a no skill prediction\n",
        "ns_prob = [0 for _ in range(len(y_test))]\n",
        "ns_fpr, ns_tpr, threshold = roc_curve(y_test, ns_prob)\n",
        "\n",
        "#Predict probabilities\n",
        "probs = logisticRegr.predict_proba(X_test)\n",
        "probs = probs[:, 1]\n",
        "#print(probs)\n",
        "lr_auc = roc_auc_score(y_test, probs)\n",
        "print(\"ROC AUC for Logistic Regression:\", round(lr_auc, 4))\n",
        "\n",
        "#Calculate thr ROC Curve\n",
        "fpr, tpr, threshold = roc_curve(y_test, probs)\n",
        "#print(len(fpr), len(tpr), threshold)\n",
        "\n",
        "#Calculate the PR-curve\n",
        "#pr_no_skill = len(y_test[y_test == 1]) / len(y_test)\n",
        "prec, recall, _ = precision_recall_curve(y_test, probs)"
      ],
      "metadata": {
        "colab": {
          "base_uri": "https://localhost:8080/"
        },
        "id": "uQ3wCiHRNe6v",
        "outputId": "8bf1cbc4-99fe-4782-ccde-8db8d2bbb13d"
      },
      "execution_count": null,
      "outputs": [
        {
          "output_type": "stream",
          "name": "stdout",
          "text": [
            "ROC AUC for Logistic Regression: 0.9667\n"
          ]
        }
      ]
    },
    {
      "cell_type": "code",
      "source": [
        "plt.plot(ns_fpr, ns_tpr, linestyle='--', label='Threshold')\n",
        "plt.plot(fpr, tpr, marker='.', label='Logistic Regression')\n",
        "plt.title('TPR vs FPR')\n",
        "plt.xlabel('False Positive Rate')\n",
        "plt.ylabel('True Positive Rate')\n",
        "plt.legend()\n",
        "plt.show()"
      ],
      "metadata": {
        "colab": {
          "base_uri": "https://localhost:8080/",
          "height": 295
        },
        "id": "mfszurZEOdkz",
        "outputId": "51211cb1-8eca-4a9e-f2db-b166de241e44"
      },
      "execution_count": null,
      "outputs": [
        {
          "output_type": "display_data",
          "data": {
            "text/plain": [
              "<Figure size 432x288 with 1 Axes>"
            ],
            "image/png": "[encoded data removed]"
          },
          "metadata": {
            "needs_background": "light"
          }
        }
      ]
    },
    {
      "cell_type": "code",
      "source": [
        "#Show the PR plots \n",
        "plt.plot([0, 1], [0.5, 0.5], linestyle='--', label='Threshold')\n",
        "plt.plot(recall, prec, marker='.', label='Logistic Regression')\n",
        "plt.title('PR-Curve')\n",
        "plt.xlabel('Recall')\n",
        "plt.ylabel('Precision')\n",
        "plt.legend()\n",
        "plt.show()"
      ],
      "metadata": {
        "colab": {
          "base_uri": "https://localhost:8080/",
          "height": 295
        },
        "id": "iWYAODkHPHjp",
        "outputId": "bbe4427c-8507-47ba-91d8-633ae960729b"
      },
      "execution_count": null,
      "outputs": [
        {
          "output_type": "display_data",
          "data": {
            "text/plain": [
              "<Figure size 432x288 with 1 Axes>"
            ],
            "image/png": "[encoded data removed]"
          },
          "metadata": {
            "needs_background": "light"
          }
        }
      ]
    }
  ],
  "metadata": {
    "colab": {
      "collapsed_sections": [],
      "name": "lung_cancer_predict_LR.ipynb",
      "provenance": [],
      "authorship_tag": "ABX9TyP2GAcdyv6C9bUmafMSCzzs"
    },
    "kernelspec": {
      "display_name": "Python 3",
      "name": "python3"
    },
    "language_info": {
      "name": "python"
    }
  },
  "nbformat": 4,
  "nbformat_minor": 0
}