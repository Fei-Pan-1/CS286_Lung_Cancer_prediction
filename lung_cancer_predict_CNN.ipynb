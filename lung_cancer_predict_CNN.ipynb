{
  "nbformat": 4,
  "nbformat_minor": 0,
  "metadata": {
    "colab": {
      "name": "lung_cancer_predict_CNN.ipynb",
      "provenance": [],
      "collapsed_sections": []
    },
    "kernelspec": {
      "name": "python3",
      "display_name": "Python 3"
    },
    "language_info": {
      "name": "python"
    },
    "accelerator": "GPU"
  },
  "cells": [
    {
      "cell_type": "code",
      "execution_count": 1,
      "metadata": {
        "id": "OEJ4vX3YPV37",
        "colab": {
          "base_uri": "https://localhost:8080/"
        },
        "outputId": "d04cc1b4-d852-46cd-ae90-11b6baf785dd"
      },
      "outputs": [
        {
          "output_type": "stream",
          "name": "stdout",
          "text": [
            "Requirement already satisfied: keras in /usr/local/lib/python3.7/dist-packages (2.8.0)\n"
          ]
        }
      ],
      "source": [
        "import pickle\n",
        "import numpy as np\n",
        "import pandas as pd\n",
        "from google.colab import drive\n",
        "import matplotlib.pyplot as plt\n",
        "from sklearn.model_selection import train_test_split\n",
        "import tensorflow as tf\n",
        "tf.__version__\n",
        "\n",
        "!sudo pip3 install keras\n",
        "from tensorflow.keras.layers import Conv1D, Dense, MaxPooling1D, Flatten, BatchNormalization\n",
        "from tensorflow.keras.models import Sequential\n",
        "from tensorflow.keras.optimizers import Adam, SGD, RMSprop\n",
        "\n",
        "from keras.layers.core import Dense, Dropout, Activation, Flatten\n",
        "from keras.layers.convolutional import Convolution1D, MaxPooling1D\n",
        "\n"
      ]
    },
    {
      "cell_type": "code",
      "source": [
        "# from google.colab import files\n",
        "# uploaded = files.upload()"
      ],
      "metadata": {
        "id": "aoAaiJxmPnp4"
      },
      "execution_count": null,
      "outputs": []
    },
    {
      "cell_type": "code",
      "source": [
        "drive.mount('/drive')\n",
        "uploaded = '/drive/My Drive/CS286/cs286_project_lung cancer/processed_data.pkl'"
      ],
      "metadata": {
        "colab": {
          "base_uri": "https://localhost:8080/"
        },
        "id": "E_s2psP7X1xb",
        "outputId": "1027ddec-1693-4d30-ea40-e1de10158d3a"
      },
      "execution_count": 2,
      "outputs": [
        {
          "output_type": "stream",
          "name": "stdout",
          "text": [
            "Mounted at /drive\n"
          ]
        }
      ]
    },
    {
      "cell_type": "markdown",
      "source": [
        "# Reading data\n",
        "\n",
        "labels: 0-LUSC(lung squamous cell carcinoma), 1-LUAD(lung adenocarcinoma)"
      ],
      "metadata": {
        "id": "95CeCkUTRYhU"
      }
    },
    {
      "cell_type": "code",
      "source": [
        "with open(uploaded, 'rb') as f:\n",
        "    loaded_dict = pickle.load(f)\n",
        "\n",
        "print(loaded_dict.keys())\n",
        "print(loaded_dict['copy_number_matrix'].shape, '\\n', loaded_dict['copy_number_matrix'])\n",
        "# print(len(loaded_dict['labels']), '\\n', loaded_dict['labels'])\n",
        "# print(len(loaded_dict['patient_ids']), '\\n', loaded_dict['patient_ids'])\n",
        "# print(len(loaded_dict['gene_ids']),'\\n', loaded_dict['gene_ids'])"
      ],
      "metadata": {
        "id": "CapJimuiPYI8",
        "colab": {
          "base_uri": "https://localhost:8080/"
        },
        "outputId": "7b3f964a-2314-4c30-9dfc-68a6b0241f8c"
      },
      "execution_count": 3,
      "outputs": [
        {
          "output_type": "stream",
          "name": "stdout",
          "text": [
            "dict_keys(['copy_number_matrix', 'patient_ids', 'labels', 'gene_ids'])\n",
            "(1058, 60623) \n",
            " [[0. 0. 0. ... 0. 0. 0.]\n",
            " [0. 0. 0. ... 0. 0. 0.]\n",
            " [0. 0. 0. ... 0. 0. 0.]\n",
            " ...\n",
            " [0. 0. 0. ... 0. 0. 0.]\n",
            " [0. 0. 0. ... 0. 0. 0.]\n",
            " [0. 0. 0. ... 0. 0. 0.]]\n"
          ]
        }
      ]
    },
    {
      "cell_type": "markdown",
      "source": [
        "# Split training set and testing set"
      ],
      "metadata": {
        "id": "WHVT_c3KWDCk"
      }
    },
    {
      "cell_type": "code",
      "source": [
        "import collections\n",
        "\n",
        "X_copy_number = loaded_dict['copy_number_matrix']\n",
        "y_label = loaded_dict['labels']\n",
        "y_label = np.asarray(y_label).reshape((-1,1))\n",
        "print(X_copy_number)\n",
        "collections.Counter(y_label.T[0])\n",
        "df_data = pd.DataFrame(X_copy_number)\n",
        "df_data.iloc[:, :-600]"
      ],
      "metadata": {
        "colab": {
          "base_uri": "https://localhost:8080/",
          "height": 548
        },
        "id": "7v-EB8HcViVW",
        "outputId": "ebcc2c97-3fea-422a-bb16-bfa03419431a"
      },
      "execution_count": null,
      "outputs": [
        {
          "output_type": "stream",
          "name": "stdout",
          "text": [
            "[[0. 0. 0. ... 0. 0. 0.]\n",
            " [0. 0. 0. ... 0. 0. 0.]\n",
            " [0. 0. 0. ... 0. 0. 0.]\n",
            " ...\n",
            " [0. 0. 0. ... 0. 0. 0.]\n",
            " [0. 0. 0. ... 0. 0. 0.]\n",
            " [0. 0. 0. ... 0. 0. 0.]]\n"
          ]
        },
        {
          "output_type": "execute_result",
          "data": {
            "text/plain": [
              "      0      1      2      3      4      5      6      7      8      9      \\\n",
              "0       0.0    0.0    0.0    0.0    0.0    0.0    0.0    3.0    3.0    3.0   \n",
              "1       0.0    0.0    0.0    0.0    0.0    0.0    0.0    2.0    2.0    2.0   \n",
              "2       0.0    0.0    0.0    0.0    0.0    0.0    0.0    3.0    3.0    3.0   \n",
              "3       0.0    0.0    0.0    0.0    0.0    0.0    0.0    2.0    2.0    2.0   \n",
              "4       0.0    0.0    0.0    0.0    0.0    0.0    0.0    2.0    2.0    2.0   \n",
              "...     ...    ...    ...    ...    ...    ...    ...    ...    ...    ...   \n",
              "1053    0.0    0.0    0.0    0.0    0.0    0.0    0.0    2.0    2.0    2.0   \n",
              "1054    0.0    0.0    0.0    0.0    0.0    0.0    0.0    2.0    2.0    2.0   \n",
              "1055    0.0    0.0    0.0    0.0    0.0    0.0    0.0    2.0    2.0    2.0   \n",
              "1056    0.0    0.0    0.0    0.0    0.0    0.0    0.0    5.0    5.0    5.0   \n",
              "1057    0.0    0.0    0.0    0.0    0.0    0.0    0.0    2.0    2.0    2.0   \n",
              "\n",
              "      ...  60013  60014  60015  60016  60017  60018  60019  60020  60021  \\\n",
              "0     ...    0.0    0.0    0.0    0.0    0.0    0.0    0.0    0.0    0.0   \n",
              "1     ...    1.0    1.0    1.0    1.0    1.0    1.0    1.0    1.0    1.0   \n",
              "2     ...    1.0    1.0    1.0    1.0    1.0    1.0    1.0    1.0    1.0   \n",
              "3     ...    2.0    2.0    2.0    2.0    2.0    2.0    2.0    2.0    2.0   \n",
              "4     ...    2.0    2.0    2.0    2.0    2.0    2.0    2.0    2.0    2.0   \n",
              "...   ...    ...    ...    ...    ...    ...    ...    ...    ...    ...   \n",
              "1053  ...    1.0    1.0    1.0    1.0    1.0    1.0    1.0    1.0    1.0   \n",
              "1054  ...    3.0    3.0    3.0    3.0    3.0    3.0    3.0    3.0    3.0   \n",
              "1055  ...    2.0    2.0    2.0    2.0    2.0    2.0    2.0    2.0    2.0   \n",
              "1056  ...    3.0    3.0    3.0    3.0    3.0    3.0    3.0    3.0    3.0   \n",
              "1057  ...    1.0    1.0    1.0    1.0    1.0    1.0    1.0    1.0    1.0   \n",
              "\n",
              "      60022  \n",
              "0       0.0  \n",
              "1       1.0  \n",
              "2       1.0  \n",
              "3       2.0  \n",
              "4       2.0  \n",
              "...     ...  \n",
              "1053    1.0  \n",
              "1054    3.0  \n",
              "1055    2.0  \n",
              "1056    3.0  \n",
              "1057    1.0  \n",
              "\n",
              "[1058 rows x 60023 columns]"
            ],
            "text/html": [
              "\n",
              "  <div id=\"df-bbb55092-f245-4c80-8914-5471954a7f9d\">\n",
              "    <div class=\"colab-df-container\">\n",
              "      <div>\n",
              "<style scoped>\n",
              "    .dataframe tbody tr th:only-of-type {\n",
              "        vertical-align: middle;\n",
              "    }\n",
              "\n",
              "    .dataframe tbody tr th {\n",
              "        vertical-align: top;\n",
              "    }\n",
              "\n",
              "    .dataframe thead th {\n",
              "        text-align: right;\n",
              "    }\n",
              "</style>\n",
              "<table border=\"1\" class=\"dataframe\">\n",
              "  <thead>\n",
              "    <tr style=\"text-align: right;\">\n",
              "      <th></th>\n",
              "      <th>0</th>\n",
              "      <th>1</th>\n",
              "      <th>2</th>\n",
              "      <th>3</th>\n",
              "      <th>4</th>\n",
              "      <th>5</th>\n",
              "      <th>6</th>\n",
              "      <th>7</th>\n",
              "      <th>8</th>\n",
              "      <th>9</th>\n",
              "      <th>...</th>\n",
              "      <th>60013</th>\n",
              "      <th>60014</th>\n",
              "      <th>60015</th>\n",
              "      <th>60016</th>\n",
              "      <th>60017</th>\n",
              "      <th>60018</th>\n",
              "      <th>60019</th>\n",
              "      <th>60020</th>\n",
              "      <th>60021</th>\n",
              "      <th>60022</th>\n",
              "    </tr>\n",
              "  </thead>\n",
              "  <tbody>\n",
              "    <tr>\n",
              "      <th>0</th>\n",
              "      <td>0.0</td>\n",
              "      <td>0.0</td>\n",
              "      <td>0.0</td>\n",
              "      <td>0.0</td>\n",
              "      <td>0.0</td>\n",
              "      <td>0.0</td>\n",
              "      <td>0.0</td>\n",
              "      <td>3.0</td>\n",
              "      <td>3.0</td>\n",
              "      <td>3.0</td>\n",
              "      <td>...</td>\n",
              "      <td>0.0</td>\n",
              "      <td>0.0</td>\n",
              "      <td>0.0</td>\n",
              "      <td>0.0</td>\n",
              "      <td>0.0</td>\n",
              "      <td>0.0</td>\n",
              "      <td>0.0</td>\n",
              "      <td>0.0</td>\n",
              "      <td>0.0</td>\n",
              "      <td>0.0</td>\n",
              "    </tr>\n",
              "    <tr>\n",
              "      <th>1</th>\n",
              "      <td>0.0</td>\n",
              "      <td>0.0</td>\n",
              "      <td>0.0</td>\n",
              "      <td>0.0</td>\n",
              "      <td>0.0</td>\n",
              "      <td>0.0</td>\n",
              "      <td>0.0</td>\n",
              "      <td>2.0</td>\n",
              "      <td>2.0</td>\n",
              "      <td>2.0</td>\n",
              "      <td>...</td>\n",
              "      <td>1.0</td>\n",
              "      <td>1.0</td>\n",
              "      <td>1.0</td>\n",
              "      <td>1.0</td>\n",
              "      <td>1.0</td>\n",
              "      <td>1.0</td>\n",
              "      <td>1.0</td>\n",
              "      <td>1.0</td>\n",
              "      <td>1.0</td>\n",
              "      <td>1.0</td>\n",
              "    </tr>\n",
              "    <tr>\n",
              "      <th>2</th>\n",
              "      <td>0.0</td>\n",
              "      <td>0.0</td>\n",
              "      <td>0.0</td>\n",
              "      <td>0.0</td>\n",
              "      <td>0.0</td>\n",
              "      <td>0.0</td>\n",
              "      <td>0.0</td>\n",
              "      <td>3.0</td>\n",
              "      <td>3.0</td>\n",
              "      <td>3.0</td>\n",
              "      <td>...</td>\n",
              "      <td>1.0</td>\n",
              "      <td>1.0</td>\n",
              "      <td>1.0</td>\n",
              "      <td>1.0</td>\n",
              "      <td>1.0</td>\n",
              "      <td>1.0</td>\n",
              "      <td>1.0</td>\n",
              "      <td>1.0</td>\n",
              "      <td>1.0</td>\n",
              "      <td>1.0</td>\n",
              "    </tr>\n",
              "    <tr>\n",
              "      <th>3</th>\n",
              "      <td>0.0</td>\n",
              "      <td>0.0</td>\n",
              "      <td>0.0</td>\n",
              "      <td>0.0</td>\n",
              "      <td>0.0</td>\n",
              "      <td>0.0</td>\n",
              "      <td>0.0</td>\n",
              "      <td>2.0</td>\n",
              "      <td>2.0</td>\n",
              "      <td>2.0</td>\n",
              "      <td>...</td>\n",
              "      <td>2.0</td>\n",
              "      <td>2.0</td>\n",
              "      <td>2.0</td>\n",
              "      <td>2.0</td>\n",
              "      <td>2.0</td>\n",
              "      <td>2.0</td>\n",
              "      <td>2.0</td>\n",
              "      <td>2.0</td>\n",
              "      <td>2.0</td>\n",
              "      <td>2.0</td>\n",
              "    </tr>\n",
              "    <tr>\n",
              "      <th>4</th>\n",
              "      <td>0.0</td>\n",
              "      <td>0.0</td>\n",
              "      <td>0.0</td>\n",
              "      <td>0.0</td>\n",
              "      <td>0.0</td>\n",
              "      <td>0.0</td>\n",
              "      <td>0.0</td>\n",
              "      <td>2.0</td>\n",
              "      <td>2.0</td>\n",
              "      <td>2.0</td>\n",
              "      <td>...</td>\n",
              "      <td>2.0</td>\n",
              "      <td>2.0</td>\n",
              "      <td>2.0</td>\n",
              "      <td>2.0</td>\n",
              "      <td>2.0</td>\n",
              "      <td>2.0</td>\n",
              "      <td>2.0</td>\n",
              "      <td>2.0</td>\n",
              "      <td>2.0</td>\n",
              "      <td>2.0</td>\n",
              "    </tr>\n",
              "    <tr>\n",
              "      <th>...</th>\n",
              "      <td>...</td>\n",
              "      <td>...</td>\n",
              "      <td>...</td>\n",
              "      <td>...</td>\n",
              "      <td>...</td>\n",
              "      <td>...</td>\n",
              "      <td>...</td>\n",
              "      <td>...</td>\n",
              "      <td>...</td>\n",
              "      <td>...</td>\n",
              "      <td>...</td>\n",
              "      <td>...</td>\n",
              "      <td>...</td>\n",
              "      <td>...</td>\n",
              "      <td>...</td>\n",
              "      <td>...</td>\n",
              "      <td>...</td>\n",
              "      <td>...</td>\n",
              "      <td>...</td>\n",
              "      <td>...</td>\n",
              "      <td>...</td>\n",
              "    </tr>\n",
              "    <tr>\n",
              "      <th>1053</th>\n",
              "      <td>0.0</td>\n",
              "      <td>0.0</td>\n",
              "      <td>0.0</td>\n",
              "      <td>0.0</td>\n",
              "      <td>0.0</td>\n",
              "      <td>0.0</td>\n",
              "      <td>0.0</td>\n",
              "      <td>2.0</td>\n",
              "      <td>2.0</td>\n",
              "      <td>2.0</td>\n",
              "      <td>...</td>\n",
              "      <td>1.0</td>\n",
              "      <td>1.0</td>\n",
              "      <td>1.0</td>\n",
              "      <td>1.0</td>\n",
              "      <td>1.0</td>\n",
              "      <td>1.0</td>\n",
              "      <td>1.0</td>\n",
              "      <td>1.0</td>\n",
              "      <td>1.0</td>\n",
              "      <td>1.0</td>\n",
              "    </tr>\n",
              "    <tr>\n",
              "      <th>1054</th>\n",
              "      <td>0.0</td>\n",
              "      <td>0.0</td>\n",
              "      <td>0.0</td>\n",
              "      <td>0.0</td>\n",
              "      <td>0.0</td>\n",
              "      <td>0.0</td>\n",
              "      <td>0.0</td>\n",
              "      <td>2.0</td>\n",
              "      <td>2.0</td>\n",
              "      <td>2.0</td>\n",
              "      <td>...</td>\n",
              "      <td>3.0</td>\n",
              "      <td>3.0</td>\n",
              "      <td>3.0</td>\n",
              "      <td>3.0</td>\n",
              "      <td>3.0</td>\n",
              "      <td>3.0</td>\n",
              "      <td>3.0</td>\n",
              "      <td>3.0</td>\n",
              "      <td>3.0</td>\n",
              "      <td>3.0</td>\n",
              "    </tr>\n",
              "    <tr>\n",
              "      <th>1055</th>\n",
              "      <td>0.0</td>\n",
              "      <td>0.0</td>\n",
              "      <td>0.0</td>\n",
              "      <td>0.0</td>\n",
              "      <td>0.0</td>\n",
              "      <td>0.0</td>\n",
              "      <td>0.0</td>\n",
              "      <td>2.0</td>\n",
              "      <td>2.0</td>\n",
              "      <td>2.0</td>\n",
              "      <td>...</td>\n",
              "      <td>2.0</td>\n",
              "      <td>2.0</td>\n",
              "      <td>2.0</td>\n",
              "      <td>2.0</td>\n",
              "      <td>2.0</td>\n",
              "      <td>2.0</td>\n",
              "      <td>2.0</td>\n",
              "      <td>2.0</td>\n",
              "      <td>2.0</td>\n",
              "      <td>2.0</td>\n",
              "    </tr>\n",
              "    <tr>\n",
              "      <th>1056</th>\n",
              "      <td>0.0</td>\n",
              "      <td>0.0</td>\n",
              "      <td>0.0</td>\n",
              "      <td>0.0</td>\n",
              "      <td>0.0</td>\n",
              "      <td>0.0</td>\n",
              "      <td>0.0</td>\n",
              "      <td>5.0</td>\n",
              "      <td>5.0</td>\n",
              "      <td>5.0</td>\n",
              "      <td>...</td>\n",
              "      <td>3.0</td>\n",
              "      <td>3.0</td>\n",
              "      <td>3.0</td>\n",
              "      <td>3.0</td>\n",
              "      <td>3.0</td>\n",
              "      <td>3.0</td>\n",
              "      <td>3.0</td>\n",
              "      <td>3.0</td>\n",
              "      <td>3.0</td>\n",
              "      <td>3.0</td>\n",
              "    </tr>\n",
              "    <tr>\n",
              "      <th>1057</th>\n",
              "      <td>0.0</td>\n",
              "      <td>0.0</td>\n",
              "      <td>0.0</td>\n",
              "      <td>0.0</td>\n",
              "      <td>0.0</td>\n",
              "      <td>0.0</td>\n",
              "      <td>0.0</td>\n",
              "      <td>2.0</td>\n",
              "      <td>2.0</td>\n",
              "      <td>2.0</td>\n",
              "      <td>...</td>\n",
              "      <td>1.0</td>\n",
              "      <td>1.0</td>\n",
              "      <td>1.0</td>\n",
              "      <td>1.0</td>\n",
              "      <td>1.0</td>\n",
              "      <td>1.0</td>\n",
              "      <td>1.0</td>\n",
              "      <td>1.0</td>\n",
              "      <td>1.0</td>\n",
              "      <td>1.0</td>\n",
              "    </tr>\n",
              "  </tbody>\n",
              "</table>\n",
              "<p>1058 rows × 60023 columns</p>\n",
              "</div>\n",
              "      <button class=\"colab-df-convert\" onclick=\"convertToInteractive('df-bbb55092-f245-4c80-8914-5471954a7f9d')\"\n",
              "              title=\"Convert this dataframe to an interactive table.\"\n",
              "              style=\"display:none;\">\n",
              "        \n",
              "  <svg xmlns=\"http://www.w3.org/2000/svg\" height=\"24px\"viewBox=\"0 0 24 24\"\n",
              "       width=\"24px\">\n",
              "    <path d=\"M0 0h24v24H0V0z\" fill=\"none\"/>\n",
              "    <path d=\"M18.56 5.44l.94 2.06.94-2.06 2.06-.94-2.06-.94-.94-2.06-.94 2.06-2.06.94zm-11 1L8.5 8.5l.94-2.06 2.06-.94-2.06-.94L8.5 2.5l-.94 2.06-2.06.94zm10 10l.94 2.06.94-2.06 2.06-.94-2.06-.94-.94-2.06-.94 2.06-2.06.94z\"/><path d=\"M17.41 7.96l-1.37-1.37c-.4-.4-.92-.59-1.43-.59-.52 0-1.04.2-1.43.59L10.3 9.45l-7.72 7.72c-.78.78-.78 2.05 0 2.83L4 21.41c.39.39.9.59 1.41.59.51 0 1.02-.2 1.41-.59l7.78-7.78 2.81-2.81c.8-.78.8-2.07 0-2.86zM5.41 20L4 18.59l7.72-7.72 1.47 1.35L5.41 20z\"/>\n",
              "  </svg>\n",
              "      </button>\n",
              "      \n",
              "  <style>\n",
              "    .colab-df-container {\n",
              "      display:flex;\n",
              "      flex-wrap:wrap;\n",
              "      gap: 12px;\n",
              "    }\n",
              "\n",
              "    .colab-df-convert {\n",
              "      background-color: #E8F0FE;\n",
              "      border: none;\n",
              "      border-radius: 50%;\n",
              "      cursor: pointer;\n",
              "      display: none;\n",
              "      fill: #1967D2;\n",
              "      height: 32px;\n",
              "      padding: 0 0 0 0;\n",
              "      width: 32px;\n",
              "    }\n",
              "\n",
              "    .colab-df-convert:hover {\n",
              "      background-color: #E2EBFA;\n",
              "      box-shadow: 0px 1px 2px rgba(60, 64, 67, 0.3), 0px 1px 3px 1px rgba(60, 64, 67, 0.15);\n",
              "      fill: #174EA6;\n",
              "    }\n",
              "\n",
              "    [theme=dark] .colab-df-convert {\n",
              "      background-color: #3B4455;\n",
              "      fill: #D2E3FC;\n",
              "    }\n",
              "\n",
              "    [theme=dark] .colab-df-convert:hover {\n",
              "      background-color: #434B5C;\n",
              "      box-shadow: 0px 1px 3px 1px rgba(0, 0, 0, 0.15);\n",
              "      filter: drop-shadow(0px 1px 2px rgba(0, 0, 0, 0.3));\n",
              "      fill: #FFFFFF;\n",
              "    }\n",
              "  </style>\n",
              "\n",
              "      <script>\n",
              "        const buttonEl =\n",
              "          document.querySelector('#df-bbb55092-f245-4c80-8914-5471954a7f9d button.colab-df-convert');\n",
              "        buttonEl.style.display =\n",
              "          google.colab.kernel.accessAllowed ? 'block' : 'none';\n",
              "\n",
              "        async function convertToInteractive(key) {\n",
              "          const element = document.querySelector('#df-bbb55092-f245-4c80-8914-5471954a7f9d');\n",
              "          const dataTable =\n",
              "            await google.colab.kernel.invokeFunction('convertToInteractive',\n",
              "                                                     [key], {});\n",
              "          if (!dataTable) return;\n",
              "\n",
              "          const docLinkHtml = 'Like what you see? Visit the ' +\n",
              "            '<a target=\"_blank\" href=https://colab.research.google.com/notebooks/data_table.ipynb>data table notebook</a>'\n",
              "            + ' to learn more about interactive tables.';\n",
              "          element.innerHTML = '';\n",
              "          dataTable['output_type'] = 'display_data';\n",
              "          await google.colab.output.renderOutput(dataTable, element);\n",
              "          const docLink = document.createElement('div');\n",
              "          docLink.innerHTML = docLinkHtml;\n",
              "          element.appendChild(docLink);\n",
              "        }\n",
              "      </script>\n",
              "    </div>\n",
              "  </div>\n",
              "  "
            ]
          },
          "metadata": {},
          "execution_count": 19
        }
      ]
    },
    {
      "cell_type": "code",
      "metadata": {
        "colab": {
          "base_uri": "https://localhost:8080/"
        },
        "id": "uHwL9aA4lZ3h",
        "outputId": "41ab00b6-17ab-430c-e437-b41832ef3737"
      },
      "source": [
        "# training 80%, tesing 20%\n",
        "X_train, X_test, y_train, y_test = train_test_split(X_copy_number, \n",
        "                                                    y_label, \n",
        "                                                    test_size = 0.20)\n",
        "\n",
        "print(X_train.shape, X_test.shape)\n",
        "print(y_train.shape, y_test.shape)"
      ],
      "execution_count": null,
      "outputs": [
        {
          "output_type": "stream",
          "name": "stdout",
          "text": [
            "(846, 60623) (212, 60623)\n",
            "(846, 1) (212, 1)\n"
          ]
        }
      ]
    },
    {
      "cell_type": "code",
      "source": [
        "X_train = X_train.reshape(len(X_train), len(X_train[0]), 1)\n",
        "X_test = X_test.reshape(len(X_test), len(X_test[0]), 1)\n",
        "print(X_train.shape, X_test.shape)"
      ],
      "metadata": {
        "colab": {
          "base_uri": "https://localhost:8080/"
        },
        "id": "I6L7OTiAFJu5",
        "outputId": "528c7a82-2283-4d1c-b82e-74f5fa3a9c1e"
      },
      "execution_count": null,
      "outputs": [
        {
          "output_type": "stream",
          "name": "stdout",
          "text": [
            "(846, 60623, 1) (212, 60623, 1)\n"
          ]
        }
      ]
    },
    {
      "cell_type": "markdown",
      "source": [
        "# Build Model"
      ],
      "metadata": {
        "id": "m0jJItZan2Rg"
      }
    },
    {
      "cell_type": "code",
      "source": [
        "def CNN():\n",
        "  model = Sequential()\n",
        "  model.add(Conv1D(filters=32, kernel_size=12,\n",
        "                  activation='relu',\n",
        "                  input_shape=(X_train.shape[1], 1)))\n",
        "  model.add(MaxPooling1D(pool_size=4))\n",
        "  model.add(BatchNormalization())\n",
        "  model.add(Dropout(0.2))\n",
        "\n",
        "  model.add(Conv1D(filters=64, kernel_size=12,\n",
        "                  activation='relu'))\n",
        "  model.add(MaxPooling1D(pool_size=8))\n",
        "  model.add(BatchNormalization())\n",
        "  model.add(Dropout(0.5))\n",
        "\n",
        "\n",
        "  model.add(Flatten())\n",
        "  model.add(Dense(64, activation='relu'))\n",
        "  model.add(Dropout(0.5))\n",
        "  model.add(Dense(1, activation='sigmoid'))\n",
        "  model.summary()\n",
        "  return model"
      ],
      "metadata": {
        "id": "FUYtl7K36Tlf"
      },
      "execution_count": null,
      "outputs": []
    },
    {
      "cell_type": "code",
      "source": [
        "opt = Adam(learning_rate=1e-5)\n",
        "model = CNN()\n",
        "model.compile(loss = 'binary_crossentropy', \n",
        "              optimizer = opt,               \n",
        "              metrics = ['accuracy'])"
      ],
      "metadata": {
        "id": "suOXauNN2a38",
        "colab": {
          "base_uri": "https://localhost:8080/"
        },
        "outputId": "ad9ecee6-ed31-459a-81fb-8b76e1b9b90f"
      },
      "execution_count": null,
      "outputs": [
        {
          "output_type": "stream",
          "name": "stdout",
          "text": [
            "Model: \"sequential_1\"\n",
            "_________________________________________________________________\n",
            " Layer (type)                Output Shape              Param #   \n",
            "=================================================================\n",
            " conv1d_2 (Conv1D)           (None, 60612, 32)         416       \n",
            "                                                                 \n",
            " max_pooling1d_2 (MaxPooling  (None, 15153, 32)        0         \n",
            " 1D)                                                             \n",
            "                                                                 \n",
            " batch_normalization_2 (Batc  (None, 15153, 32)        128       \n",
            " hNormalization)                                                 \n",
            "                                                                 \n",
            " dropout_3 (Dropout)         (None, 15153, 32)         0         \n",
            "                                                                 \n",
            " conv1d_3 (Conv1D)           (None, 15142, 64)         24640     \n",
            "                                                                 \n",
            " max_pooling1d_3 (MaxPooling  (None, 1892, 64)         0         \n",
            " 1D)                                                             \n",
            "                                                                 \n",
            " batch_normalization_3 (Batc  (None, 1892, 64)         256       \n",
            " hNormalization)                                                 \n",
            "                                                                 \n",
            " dropout_4 (Dropout)         (None, 1892, 64)          0         \n",
            "                                                                 \n",
            " flatten_1 (Flatten)         (None, 121088)            0         \n",
            "                                                                 \n",
            " dense_2 (Dense)             (None, 64)                7749696   \n",
            "                                                                 \n",
            " dropout_5 (Dropout)         (None, 64)                0         \n",
            "                                                                 \n",
            " dense_3 (Dense)             (None, 1)                 65        \n",
            "                                                                 \n",
            "=================================================================\n",
            "Total params: 7,775,201\n",
            "Trainable params: 7,775,009\n",
            "Non-trainable params: 192\n",
            "_________________________________________________________________\n"
          ]
        }
      ]
    },
    {
      "cell_type": "code",
      "source": [
        "# history = model.fit(X_train, y_train, epochs=50, validation_data=(X_test, y_test), verbose=1)\n",
        "history = model.fit(X_train, y_train, epochs=100, verbose=1, validation_split=0.25)\n"
      ],
      "metadata": {
        "id": "0qAKPjqMPpsH",
        "colab": {
          "base_uri": "https://localhost:8080/"
        },
        "outputId": "1f242b64-dea5-4898-c381-dc385eed00a3"
      },
      "execution_count": null,
      "outputs": [
        {
          "output_type": "stream",
          "name": "stdout",
          "text": [
            "Epoch 1/100\n",
            "20/20 [==============================] - 3s 125ms/step - loss: 0.8850 - accuracy: 0.6404 - val_loss: 0.5462 - val_accuracy: 0.8113\n",
            "Epoch 2/100\n",
            "20/20 [==============================] - 2s 105ms/step - loss: 0.5626 - accuracy: 0.7808 - val_loss: 0.4928 - val_accuracy: 0.8208\n",
            "Epoch 3/100\n",
            "20/20 [==============================] - 2s 110ms/step - loss: 0.3544 - accuracy: 0.8407 - val_loss: 0.5036 - val_accuracy: 0.8066\n",
            "Epoch 4/100\n",
            "20/20 [==============================] - 2s 107ms/step - loss: 0.3848 - accuracy: 0.8470 - val_loss: 0.4536 - val_accuracy: 0.8726\n",
            "Epoch 5/100\n",
            "20/20 [==============================] - 2s 105ms/step - loss: 0.3273 - accuracy: 0.8675 - val_loss: 0.4365 - val_accuracy: 0.8774\n",
            "Epoch 6/100\n",
            "20/20 [==============================] - 2s 109ms/step - loss: 0.3091 - accuracy: 0.8849 - val_loss: 0.4250 - val_accuracy: 0.8632\n",
            "Epoch 7/100\n",
            "20/20 [==============================] - 2s 109ms/step - loss: 0.2619 - accuracy: 0.8943 - val_loss: 0.4005 - val_accuracy: 0.8679\n",
            "Epoch 8/100\n",
            "20/20 [==============================] - 2s 97ms/step - loss: 0.2711 - accuracy: 0.8833 - val_loss: 0.3860 - val_accuracy: 0.8774\n",
            "Epoch 9/100\n",
            "20/20 [==============================] - 2s 98ms/step - loss: 0.2456 - accuracy: 0.9069 - val_loss: 0.3510 - val_accuracy: 0.9198\n",
            "Epoch 10/100\n",
            "20/20 [==============================] - 2s 97ms/step - loss: 0.2197 - accuracy: 0.9117 - val_loss: 0.3385 - val_accuracy: 0.9198\n",
            "Epoch 11/100\n",
            "20/20 [==============================] - 2s 98ms/step - loss: 0.1803 - accuracy: 0.9306 - val_loss: 0.3203 - val_accuracy: 0.9009\n",
            "Epoch 12/100\n",
            "20/20 [==============================] - 2s 98ms/step - loss: 0.1870 - accuracy: 0.9259 - val_loss: 0.3114 - val_accuracy: 0.9151\n",
            "Epoch 13/100\n",
            "20/20 [==============================] - 2s 97ms/step - loss: 0.1909 - accuracy: 0.9274 - val_loss: 0.3196 - val_accuracy: 0.9104\n",
            "Epoch 14/100\n",
            "20/20 [==============================] - 2s 97ms/step - loss: 0.1876 - accuracy: 0.9338 - val_loss: 0.2914 - val_accuracy: 0.8962\n",
            "Epoch 15/100\n",
            "20/20 [==============================] - 2s 98ms/step - loss: 0.1823 - accuracy: 0.9290 - val_loss: 0.2862 - val_accuracy: 0.9009\n",
            "Epoch 16/100\n",
            "20/20 [==============================] - 2s 97ms/step - loss: 0.1513 - accuracy: 0.9401 - val_loss: 0.2848 - val_accuracy: 0.9057\n",
            "Epoch 17/100\n",
            "20/20 [==============================] - 2s 98ms/step - loss: 0.1352 - accuracy: 0.9448 - val_loss: 0.2828 - val_accuracy: 0.9151\n",
            "Epoch 18/100\n",
            "20/20 [==============================] - 2s 98ms/step - loss: 0.1632 - accuracy: 0.9306 - val_loss: 0.2808 - val_accuracy: 0.8962\n",
            "Epoch 19/100\n",
            "20/20 [==============================] - 2s 98ms/step - loss: 0.1190 - accuracy: 0.9495 - val_loss: 0.2961 - val_accuracy: 0.9057\n",
            "Epoch 20/100\n",
            "20/20 [==============================] - 2s 98ms/step - loss: 0.1351 - accuracy: 0.9511 - val_loss: 0.2895 - val_accuracy: 0.9104\n",
            "Epoch 21/100\n",
            "20/20 [==============================] - 2s 97ms/step - loss: 0.1113 - accuracy: 0.9606 - val_loss: 0.2751 - val_accuracy: 0.8962\n",
            "Epoch 22/100\n",
            "20/20 [==============================] - 2s 98ms/step - loss: 0.1278 - accuracy: 0.9479 - val_loss: 0.2870 - val_accuracy: 0.9009\n",
            "Epoch 23/100\n",
            "20/20 [==============================] - 2s 98ms/step - loss: 0.1121 - accuracy: 0.9543 - val_loss: 0.2675 - val_accuracy: 0.8962\n",
            "Epoch 24/100\n",
            "20/20 [==============================] - 2s 98ms/step - loss: 0.1245 - accuracy: 0.9464 - val_loss: 0.2583 - val_accuracy: 0.8915\n",
            "Epoch 25/100\n",
            "20/20 [==============================] - 2s 98ms/step - loss: 0.0951 - accuracy: 0.9700 - val_loss: 0.2530 - val_accuracy: 0.8962\n",
            "Epoch 26/100\n",
            "20/20 [==============================] - 2s 98ms/step - loss: 0.1010 - accuracy: 0.9621 - val_loss: 0.2634 - val_accuracy: 0.9009\n",
            "Epoch 27/100\n",
            "20/20 [==============================] - 2s 98ms/step - loss: 0.1229 - accuracy: 0.9479 - val_loss: 0.2642 - val_accuracy: 0.9009\n",
            "Epoch 28/100\n",
            "20/20 [==============================] - 2s 98ms/step - loss: 0.0975 - accuracy: 0.9621 - val_loss: 0.2725 - val_accuracy: 0.8868\n",
            "Epoch 29/100\n",
            "20/20 [==============================] - 2s 98ms/step - loss: 0.1092 - accuracy: 0.9543 - val_loss: 0.2793 - val_accuracy: 0.9009\n",
            "Epoch 30/100\n",
            "20/20 [==============================] - 2s 98ms/step - loss: 0.1016 - accuracy: 0.9637 - val_loss: 0.2649 - val_accuracy: 0.9104\n",
            "Epoch 31/100\n",
            "20/20 [==============================] - 2s 99ms/step - loss: 0.0936 - accuracy: 0.9543 - val_loss: 0.2978 - val_accuracy: 0.8915\n",
            "Epoch 32/100\n",
            "20/20 [==============================] - 2s 98ms/step - loss: 0.0913 - accuracy: 0.9574 - val_loss: 0.2675 - val_accuracy: 0.9104\n",
            "Epoch 33/100\n",
            "20/20 [==============================] - 2s 99ms/step - loss: 0.0892 - accuracy: 0.9653 - val_loss: 0.2985 - val_accuracy: 0.8915\n",
            "Epoch 34/100\n",
            "20/20 [==============================] - 2s 99ms/step - loss: 0.1012 - accuracy: 0.9653 - val_loss: 0.2752 - val_accuracy: 0.9057\n",
            "Epoch 35/100\n",
            "20/20 [==============================] - 2s 98ms/step - loss: 0.0798 - accuracy: 0.9685 - val_loss: 0.2828 - val_accuracy: 0.9104\n",
            "Epoch 36/100\n",
            "20/20 [==============================] - 2s 98ms/step - loss: 0.0810 - accuracy: 0.9700 - val_loss: 0.2793 - val_accuracy: 0.9057\n",
            "Epoch 37/100\n",
            "20/20 [==============================] - 2s 98ms/step - loss: 0.0808 - accuracy: 0.9685 - val_loss: 0.2717 - val_accuracy: 0.9057\n",
            "Epoch 38/100\n",
            "20/20 [==============================] - 2s 98ms/step - loss: 0.0686 - accuracy: 0.9716 - val_loss: 0.2844 - val_accuracy: 0.9057\n",
            "Epoch 39/100\n",
            "20/20 [==============================] - 2s 98ms/step - loss: 0.0674 - accuracy: 0.9669 - val_loss: 0.2891 - val_accuracy: 0.8962\n",
            "Epoch 40/100\n",
            "20/20 [==============================] - 2s 99ms/step - loss: 0.0682 - accuracy: 0.9716 - val_loss: 0.2919 - val_accuracy: 0.9057\n",
            "Epoch 41/100\n",
            "20/20 [==============================] - 2s 105ms/step - loss: 0.0644 - accuracy: 0.9732 - val_loss: 0.2755 - val_accuracy: 0.9057\n",
            "Epoch 42/100\n",
            "20/20 [==============================] - 2s 101ms/step - loss: 0.0730 - accuracy: 0.9732 - val_loss: 0.2929 - val_accuracy: 0.9104\n",
            "Epoch 43/100\n",
            "20/20 [==============================] - 2s 99ms/step - loss: 0.0738 - accuracy: 0.9732 - val_loss: 0.2838 - val_accuracy: 0.9009\n",
            "Epoch 44/100\n",
            "20/20 [==============================] - 2s 99ms/step - loss: 0.0670 - accuracy: 0.9716 - val_loss: 0.2905 - val_accuracy: 0.9057\n",
            "Epoch 45/100\n",
            "20/20 [==============================] - 2s 99ms/step - loss: 0.0598 - accuracy: 0.9826 - val_loss: 0.2974 - val_accuracy: 0.9057\n",
            "Epoch 46/100\n",
            "20/20 [==============================] - 2s 99ms/step - loss: 0.0665 - accuracy: 0.9716 - val_loss: 0.3089 - val_accuracy: 0.8821\n",
            "Epoch 47/100\n",
            "20/20 [==============================] - 2s 99ms/step - loss: 0.0626 - accuracy: 0.9763 - val_loss: 0.3153 - val_accuracy: 0.8821\n",
            "Epoch 48/100\n",
            "20/20 [==============================] - 2s 100ms/step - loss: 0.0602 - accuracy: 0.9779 - val_loss: 0.2959 - val_accuracy: 0.9057\n",
            "Epoch 49/100\n",
            "20/20 [==============================] - 2s 99ms/step - loss: 0.0589 - accuracy: 0.9826 - val_loss: 0.2913 - val_accuracy: 0.9198\n",
            "Epoch 50/100\n",
            "20/20 [==============================] - 2s 99ms/step - loss: 0.0653 - accuracy: 0.9653 - val_loss: 0.2890 - val_accuracy: 0.9057\n",
            "Epoch 51/100\n",
            "20/20 [==============================] - 2s 99ms/step - loss: 0.0633 - accuracy: 0.9748 - val_loss: 0.3175 - val_accuracy: 0.8962\n",
            "Epoch 52/100\n",
            "20/20 [==============================] - 2s 98ms/step - loss: 0.0578 - accuracy: 0.9826 - val_loss: 0.3147 - val_accuracy: 0.8962\n",
            "Epoch 53/100\n",
            "20/20 [==============================] - 2s 99ms/step - loss: 0.0577 - accuracy: 0.9763 - val_loss: 0.3284 - val_accuracy: 0.9057\n",
            "Epoch 54/100\n",
            "20/20 [==============================] - 2s 98ms/step - loss: 0.0772 - accuracy: 0.9700 - val_loss: 0.2899 - val_accuracy: 0.9009\n",
            "Epoch 55/100\n",
            "20/20 [==============================] - 2s 99ms/step - loss: 0.0539 - accuracy: 0.9826 - val_loss: 0.2920 - val_accuracy: 0.9104\n",
            "Epoch 56/100\n",
            "20/20 [==============================] - 2s 99ms/step - loss: 0.0562 - accuracy: 0.9842 - val_loss: 0.2940 - val_accuracy: 0.8962\n",
            "Epoch 57/100\n",
            "20/20 [==============================] - 2s 98ms/step - loss: 0.0562 - accuracy: 0.9795 - val_loss: 0.3164 - val_accuracy: 0.8915\n",
            "Epoch 58/100\n",
            "20/20 [==============================] - 2s 99ms/step - loss: 0.0462 - accuracy: 0.9858 - val_loss: 0.3105 - val_accuracy: 0.9198\n",
            "Epoch 59/100\n",
            "20/20 [==============================] - 2s 99ms/step - loss: 0.0523 - accuracy: 0.9763 - val_loss: 0.3115 - val_accuracy: 0.8915\n",
            "Epoch 60/100\n",
            "20/20 [==============================] - 2s 99ms/step - loss: 0.0492 - accuracy: 0.9779 - val_loss: 0.3336 - val_accuracy: 0.8774\n",
            "Epoch 61/100\n",
            "20/20 [==============================] - 2s 99ms/step - loss: 0.0428 - accuracy: 0.9890 - val_loss: 0.3211 - val_accuracy: 0.8915\n",
            "Epoch 62/100\n",
            "20/20 [==============================] - 2s 98ms/step - loss: 0.0465 - accuracy: 0.9826 - val_loss: 0.3183 - val_accuracy: 0.8915\n",
            "Epoch 63/100\n",
            "20/20 [==============================] - 2s 98ms/step - loss: 0.0516 - accuracy: 0.9779 - val_loss: 0.3090 - val_accuracy: 0.9151\n",
            "Epoch 64/100\n",
            "20/20 [==============================] - 2s 99ms/step - loss: 0.0538 - accuracy: 0.9732 - val_loss: 0.3065 - val_accuracy: 0.9104\n",
            "Epoch 65/100\n",
            "20/20 [==============================] - 2s 99ms/step - loss: 0.0639 - accuracy: 0.9795 - val_loss: 0.3183 - val_accuracy: 0.8915\n",
            "Epoch 66/100\n",
            "20/20 [==============================] - 2s 99ms/step - loss: 0.0433 - accuracy: 0.9826 - val_loss: 0.3251 - val_accuracy: 0.8915\n",
            "Epoch 67/100\n",
            "20/20 [==============================] - 2s 99ms/step - loss: 0.0388 - accuracy: 0.9858 - val_loss: 0.3179 - val_accuracy: 0.8962\n",
            "Epoch 68/100\n",
            "20/20 [==============================] - 2s 98ms/step - loss: 0.0574 - accuracy: 0.9763 - val_loss: 0.3247 - val_accuracy: 0.8915\n",
            "Epoch 69/100\n",
            "20/20 [==============================] - 2s 99ms/step - loss: 0.0502 - accuracy: 0.9779 - val_loss: 0.3069 - val_accuracy: 0.9198\n",
            "Epoch 70/100\n",
            "20/20 [==============================] - 2s 99ms/step - loss: 0.0456 - accuracy: 0.9811 - val_loss: 0.3231 - val_accuracy: 0.8915\n",
            "Epoch 71/100\n",
            "20/20 [==============================] - 2s 99ms/step - loss: 0.0432 - accuracy: 0.9826 - val_loss: 0.3115 - val_accuracy: 0.9151\n",
            "Epoch 72/100\n",
            "20/20 [==============================] - 2s 99ms/step - loss: 0.0415 - accuracy: 0.9842 - val_loss: 0.3233 - val_accuracy: 0.8962\n",
            "Epoch 73/100\n",
            "20/20 [==============================] - 2s 99ms/step - loss: 0.0405 - accuracy: 0.9874 - val_loss: 0.3480 - val_accuracy: 0.9009\n",
            "Epoch 74/100\n",
            "20/20 [==============================] - 2s 99ms/step - loss: 0.0447 - accuracy: 0.9811 - val_loss: 0.3402 - val_accuracy: 0.9104\n",
            "Epoch 75/100\n",
            "20/20 [==============================] - 2s 99ms/step - loss: 0.0517 - accuracy: 0.9811 - val_loss: 0.3440 - val_accuracy: 0.8962\n",
            "Epoch 76/100\n",
            "20/20 [==============================] - 2s 99ms/step - loss: 0.0495 - accuracy: 0.9763 - val_loss: 0.3083 - val_accuracy: 0.9104\n",
            "Epoch 77/100\n",
            "20/20 [==============================] - 2s 98ms/step - loss: 0.0389 - accuracy: 0.9826 - val_loss: 0.3427 - val_accuracy: 0.8868\n",
            "Epoch 78/100\n",
            "20/20 [==============================] - 2s 99ms/step - loss: 0.0375 - accuracy: 0.9858 - val_loss: 0.3262 - val_accuracy: 0.9151\n",
            "Epoch 79/100\n",
            "20/20 [==============================] - 2s 99ms/step - loss: 0.0352 - accuracy: 0.9874 - val_loss: 0.3678 - val_accuracy: 0.8774\n",
            "Epoch 80/100\n",
            "20/20 [==============================] - 2s 99ms/step - loss: 0.0397 - accuracy: 0.9826 - val_loss: 0.3436 - val_accuracy: 0.9057\n",
            "Epoch 81/100\n",
            "20/20 [==============================] - 2s 99ms/step - loss: 0.0377 - accuracy: 0.9858 - val_loss: 0.3681 - val_accuracy: 0.9057\n",
            "Epoch 82/100\n",
            "20/20 [==============================] - 2s 100ms/step - loss: 0.0385 - accuracy: 0.9874 - val_loss: 0.3537 - val_accuracy: 0.9151\n",
            "Epoch 83/100\n",
            "20/20 [==============================] - 2s 99ms/step - loss: 0.0391 - accuracy: 0.9874 - val_loss: 0.3664 - val_accuracy: 0.8915\n",
            "Epoch 84/100\n",
            "20/20 [==============================] - 2s 99ms/step - loss: 0.0355 - accuracy: 0.9826 - val_loss: 0.3410 - val_accuracy: 0.9104\n",
            "Epoch 85/100\n",
            "20/20 [==============================] - 2s 99ms/step - loss: 0.0400 - accuracy: 0.9826 - val_loss: 0.3495 - val_accuracy: 0.9057\n",
            "Epoch 86/100\n",
            "20/20 [==============================] - 2s 99ms/step - loss: 0.0335 - accuracy: 0.9890 - val_loss: 0.3443 - val_accuracy: 0.9198\n",
            "Epoch 87/100\n",
            "20/20 [==============================] - 2s 100ms/step - loss: 0.0301 - accuracy: 0.9937 - val_loss: 0.3542 - val_accuracy: 0.9104\n",
            "Epoch 88/100\n",
            "20/20 [==============================] - 2s 99ms/step - loss: 0.0348 - accuracy: 0.9858 - val_loss: 0.3516 - val_accuracy: 0.9245\n",
            "Epoch 89/100\n",
            "20/20 [==============================] - 2s 100ms/step - loss: 0.0344 - accuracy: 0.9858 - val_loss: 0.3620 - val_accuracy: 0.9104\n",
            "Epoch 90/100\n",
            "20/20 [==============================] - 2s 99ms/step - loss: 0.0370 - accuracy: 0.9890 - val_loss: 0.3592 - val_accuracy: 0.9104\n",
            "Epoch 91/100\n",
            "20/20 [==============================] - 2s 100ms/step - loss: 0.0362 - accuracy: 0.9874 - val_loss: 0.3660 - val_accuracy: 0.9009\n",
            "Epoch 92/100\n",
            "20/20 [==============================] - 2s 99ms/step - loss: 0.0428 - accuracy: 0.9826 - val_loss: 0.3758 - val_accuracy: 0.8962\n",
            "Epoch 93/100\n",
            "20/20 [==============================] - 2s 99ms/step - loss: 0.0325 - accuracy: 0.9842 - val_loss: 0.3783 - val_accuracy: 0.8868\n",
            "Epoch 94/100\n",
            "20/20 [==============================] - 2s 99ms/step - loss: 0.0324 - accuracy: 0.9858 - val_loss: 0.3779 - val_accuracy: 0.8962\n",
            "Epoch 95/100\n",
            "20/20 [==============================] - 2s 100ms/step - loss: 0.0294 - accuracy: 0.9937 - val_loss: 0.3839 - val_accuracy: 0.8915\n",
            "Epoch 96/100\n",
            "20/20 [==============================] - 2s 99ms/step - loss: 0.0274 - accuracy: 0.9890 - val_loss: 0.3702 - val_accuracy: 0.9057\n",
            "Epoch 97/100\n",
            "20/20 [==============================] - 2s 100ms/step - loss: 0.0390 - accuracy: 0.9858 - val_loss: 0.3868 - val_accuracy: 0.8962\n",
            "Epoch 98/100\n",
            "20/20 [==============================] - 2s 99ms/step - loss: 0.0280 - accuracy: 0.9921 - val_loss: 0.3647 - val_accuracy: 0.9009\n",
            "Epoch 99/100\n",
            "20/20 [==============================] - 2s 99ms/step - loss: 0.0333 - accuracy: 0.9905 - val_loss: 0.3593 - val_accuracy: 0.9057\n",
            "Epoch 100/100\n",
            "20/20 [==============================] - 2s 99ms/step - loss: 0.0285 - accuracy: 0.9890 - val_loss: 0.3563 - val_accuracy: 0.9104\n"
          ]
        }
      ]
    },
    {
      "cell_type": "code",
      "source": [
        "plt.figure()\n",
        "plt.plot(history.history['loss'])\n",
        "plt.plot(history.history['val_loss'])\n",
        "plt.title('model loss')\n",
        "plt.ylabel('loss')\n",
        "plt.xlabel('epoch')\n",
        "plt.legend(['train', 'validation'])\n",
        "plt.show()"
      ],
      "metadata": {
        "id": "WM5mVzZRD_Ha",
        "colab": {
          "base_uri": "https://localhost:8080/",
          "height": 54
        },
        "outputId": "d3520dbc-7d7d-4d92-8f3b-102afd0465bc"
      },
      "execution_count": null,
      "outputs": [
        {
          "output_type": "display_data",
          "data": {
            "text/plain": [
              "<Figure size 432x288 with 1 Axes>"
            ],
            "image/png": "[encoded data removed]"
          },
          "metadata": {
            "needs_background": "light"
          }
        }
      ]
    },
    {
      "cell_type": "code",
      "source": [
        "plt.figure()\n",
        "plt.plot(history.history['accuracy'])\n",
        "plt.plot(history.history['val_accuracy'])\n",
        "plt.title('model accuracy')\n",
        "plt.ylabel('accuracy')\n",
        "plt.xlabel('epoch')\n",
        "plt.legend(['train', 'validation'])\n",
        "plt.show()"
      ],
      "metadata": {
        "id": "xLtHk28ya_u_",
        "colab": {
          "base_uri": "https://localhost:8080/"
        },
        "outputId": "e89994b9-8939-4a3b-f0d0-d2d45c478d3f"
      },
      "execution_count": null,
      "outputs": [
        {
          "output_type": "display_data",
          "data": {
            "text/plain": [
              "<Figure size 432x288 with 1 Axes>"
            ],
            "image/png": "[encoded data removed]"
          },
          "metadata": {
            "needs_background": "light"
          }
        }
      ]
    },
    {
      "cell_type": "markdown",
      "source": [
        "# Evaluate"
      ],
      "metadata": {
        "id": "x7iVXrtLHBpl"
      }
    },
    {
      "cell_type": "code",
      "source": [
        "from sklearn.metrics import confusion_matrix\n",
        "import collections\n",
        "\n",
        "y_pred = model.predict(X_test)\n",
        "print(y_pred.round().T)\n",
        "print(y_test.T)\n",
        "cm = confusion_matrix(y_test, y_pred.round())\n",
        "print(cm)\n",
        "print(collections.Counter(y_pred.round().T[0]))\n",
        "print(collections.Counter(y_test.T[0]))\n",
        "result = model.evaluate(X_test, y_test)\n",
        "print('loss:', result[0], 'accuracy:', result[1])"
      ],
      "metadata": {
        "id": "DRdtzcGVsVob",
        "colab": {
          "base_uri": "https://localhost:8080/"
        },
        "outputId": "f2927f64-6fe1-46a5-c080-ab4a45281931"
      },
      "execution_count": null,
      "outputs": [
        {
          "output_type": "stream",
          "name": "stdout",
          "text": [
            "[[0. 1. 1. 0. 1. 0. 0. 0. 0. 1. 1. 1. 1. 0. 0. 1. 1. 1. 1. 1. 1. 1. 0. 1.\n",
            "  0. 1. 1. 0. 1. 0. 0. 1. 1. 0. 0. 1. 0. 0. 0. 1. 1. 0. 0. 0. 0. 0. 0. 0.\n",
            "  0. 0. 0. 0. 0. 0. 0. 0. 1. 0. 1. 0. 0. 1. 0. 0. 0. 0. 0. 0. 0. 0. 1. 1.\n",
            "  1. 0. 0. 0. 0. 1. 0. 0. 1. 0. 1. 0. 1. 0. 0. 0. 1. 1. 1. 1. 0. 1. 1. 0.\n",
            "  1. 0. 1. 0. 1. 0. 0. 0. 0. 0. 0. 0. 1. 1. 1. 0. 1. 0. 0. 0. 0. 1. 0. 1.\n",
            "  1. 0. 1. 1. 0. 1. 0. 0. 1. 0. 1. 1. 0. 1. 0. 1. 0. 0. 1. 1. 1. 0. 0. 1.\n",
            "  0. 0. 0. 0. 1. 1. 0. 1. 1. 0. 0. 1. 1. 0. 0. 1. 1. 0. 0. 1. 1. 1. 0. 0.\n",
            "  0. 1. 0. 1. 1. 0. 1. 1. 1. 0. 0. 0. 0. 0. 0. 0. 0. 1. 0. 1. 0. 1. 1. 1.\n",
            "  0. 1. 1. 0. 0. 1. 0. 1. 1. 0. 1. 1. 0. 0. 0. 0. 1. 0. 0. 1.]]\n",
            "[[0 1 1 0 1 0 0 0 0 1 1 1 1 0 0 1 0 1 1 1 1 1 1 1 1 1 0 0 1 1 0 1 1 0 1 1\n",
            "  0 0 0 1 1 1 1 0 0 0 0 0 0 0 0 0 0 0 0 0 1 0 1 0 0 1 0 0 0 0 0 0 0 0 1 1\n",
            "  1 0 1 0 1 1 0 0 1 0 1 0 1 0 0 0 0 1 1 1 0 1 1 0 0 0 1 0 1 0 0 0 1 0 0 0\n",
            "  1 1 1 0 1 0 0 0 0 1 0 1 1 0 1 1 1 0 0 0 1 0 1 1 1 1 0 1 0 0 1 1 1 0 0 1\n",
            "  0 0 0 1 1 1 0 1 1 0 0 1 0 0 0 1 1 0 0 1 1 0 0 0 0 1 1 1 1 0 1 1 1 0 0 0\n",
            "  0 0 0 0 0 1 0 1 1 1 1 1 0 1 1 0 0 1 0 1 1 0 1 1 0 0 0 0 1 0 0 1]]\n",
            "[[106   7]\n",
            " [ 14  85]]\n",
            "Counter({0.0: 120, 1.0: 92})\n",
            "Counter({0: 113, 1: 99})\n",
            "7/7 [==============================] - 0s 31ms/step - loss: 0.2900 - accuracy: 0.9009\n",
            "loss: 0.28998619318008423 accuracy: 0.900943398475647\n"
          ]
        }
      ]
    },
    {
      "cell_type": "code",
      "source": [
        "import seaborn as sns\n",
        "\n",
        "ax = sns.heatmap(cm, annot=True, cmap='Blues', fmt='g')\n",
        "\n",
        "ax.set_title('Confusion Matrix with labels\\n');\n",
        "ax.set_xlabel('\\nPredicted Values')\n",
        "ax.set_ylabel('Actual Values ');\n",
        "\n",
        "ax.xaxis.set_ticklabels(['LUSC','LUAD'])\n",
        "ax.yaxis.set_ticklabels(['LUSC','LUAD'])\n",
        "\n",
        "## Display the visualization of the Confusion Matrix.\n",
        "plt.show()"
      ],
      "metadata": {
        "id": "H_w6z4syyer6",
        "colab": {
          "base_uri": "https://localhost:8080/"
        },
        "outputId": "35c2b484-aa0c-41e9-d66d-390ed843a476"
      },
      "execution_count": null,
      "outputs": [
        {
          "output_type": "display_data",
          "data": {
            "text/plain": [
              "<Figure size 432x288 with 2 Axes>"
            ],
            "image/png": "[encoded data removed]"
          },
          "metadata": {
            "needs_background": "light"
          }
        }
      ]
    }
  ]
}